{
 "cells": [
  {
   "cell_type": "code",
   "execution_count": 6,
   "id": "252d50ab",
   "metadata": {},
   "outputs": [
    {
     "name": "stdout",
     "output_type": "stream",
     "text": [
      "a B c D\n",
      "to upper A B C D\n",
      "to lower a b c d\n"
     ]
    }
   ],
   "source": [
    "#upper() , lower()\n",
    "a='a B c D'\n",
    "print(a)\n",
    "print(\"to upper \"+a.upper()) #converts the string to upper case\n",
    "print(\"to lower \"+a.lower()) #converts the string to lower case\n"
   ]
  },
  {
   "cell_type": "code",
   "execution_count": 4,
   "id": "b72e1671",
   "metadata": {},
   "outputs": [
    {
     "name": "stdout",
     "output_type": "stream",
     "text": [
      " satya \n",
      "satya\n"
     ]
    }
   ],
   "source": [
    "#strip()\n",
    "a=\" satya \"\n",
    "print(a)\n",
    "a= a.strip() # removes the whitespace from sides\n",
    "print(a)\n"
   ]
  },
  {
   "cell_type": "code",
   "execution_count": 10,
   "id": "0a144401",
   "metadata": {},
   "outputs": [
    {
     "name": "stdout",
     "output_type": "stream",
     "text": [
      "Satyarth prakash\n"
     ]
    }
   ],
   "source": [
    "#capitalize \n",
    "str=\"Satyarth prakash\"\n",
    "print(str.capitalize()) # capitalizes first letter"
   ]
  },
  {
   "cell_type": "code",
   "execution_count": 12,
   "id": "10f679d5",
   "metadata": {},
   "outputs": [
    {
     "name": "stdout",
     "output_type": "stream",
     "text": [
      "hello\n"
     ]
    }
   ],
   "source": [
    "#replace(old,new)\n",
    "str=\"gekko\"\n",
    "print(str)\n",
    "str=str.replace('g','h') # replace g with h\n",
    "str=str.replace('k','l')\n",
    "print(str)"
   ]
  },
  {
   "cell_type": "code",
   "execution_count": 17,
   "id": "b661faf5",
   "metadata": {},
   "outputs": [
    {
     "name": "stdout",
     "output_type": "stream",
     "text": [
      "['hello', 'my', 'name', 'is', 'satyarth']\n"
     ]
    },
    {
     "ename": "TypeError",
     "evalue": "str.join() takes exactly one argument (0 given)",
     "output_type": "error",
     "traceback": [
      "\u001b[1;31m---------------------------------------------------------------------------\u001b[0m",
      "\u001b[1;31mTypeError\u001b[0m                                 Traceback (most recent call last)",
      "\u001b[1;32m~\\AppData\\Local\\Temp\\ipykernel_12640\\35824896.py\u001b[0m in \u001b[0;36m<module>\u001b[1;34m\u001b[0m\n\u001b[0;32m      2\u001b[0m \u001b[0mstr\u001b[0m\u001b[1;33m=\u001b[0m\u001b[1;34m\" hello my name is satyarth \"\u001b[0m\u001b[1;33m\u001b[0m\u001b[1;33m\u001b[0m\u001b[0m\n\u001b[0;32m      3\u001b[0m \u001b[0mprint\u001b[0m\u001b[1;33m(\u001b[0m\u001b[0mstr\u001b[0m\u001b[1;33m.\u001b[0m\u001b[0msplit\u001b[0m\u001b[1;33m(\u001b[0m\u001b[1;33m)\u001b[0m\u001b[1;33m)\u001b[0m\u001b[1;33m\u001b[0m\u001b[1;33m\u001b[0m\u001b[0m\n\u001b[1;32m----> 4\u001b[1;33m \u001b[0mprint\u001b[0m\u001b[1;33m(\u001b[0m\u001b[0mstr\u001b[0m\u001b[1;33m.\u001b[0m\u001b[0mjoin\u001b[0m\u001b[1;33m(\u001b[0m\u001b[1;33m)\u001b[0m\u001b[1;33m)\u001b[0m\u001b[1;33m\u001b[0m\u001b[1;33m\u001b[0m\u001b[0m\n\u001b[0m",
      "\u001b[1;31mTypeError\u001b[0m: str.join() takes exactly one argument (0 given)"
     ]
    }
   ],
   "source": [
    "#split- splits the words of string into a list of word\n",
    "str=\" hello my name is satyarth \"\n",
    "print(str.split())\n",
    "print(str.join())"
   ]
  },
  {
   "cell_type": "code",
   "execution_count": null,
   "id": "eaf8425c",
   "metadata": {},
   "outputs": [],
   "source": []
  }
 ],
 "metadata": {
  "kernelspec": {
   "display_name": "Python 3 (ipykernel)",
   "language": "python",
   "name": "python3"
  },
  "language_info": {
   "codemirror_mode": {
    "name": "ipython",
    "version": 3
   },
   "file_extension": ".py",
   "mimetype": "text/x-python",
   "name": "python",
   "nbconvert_exporter": "python",
   "pygments_lexer": "ipython3",
   "version": "3.9.13"
  }
 },
 "nbformat": 4,
 "nbformat_minor": 5
}
