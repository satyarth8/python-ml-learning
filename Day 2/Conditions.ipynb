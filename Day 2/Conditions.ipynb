{
 "cells": [
  {
   "cell_type": "markdown",
   "id": "468e0c1d",
   "metadata": {},
   "source": [
    "# if else statement , to be used where a single condition is true"
   ]
  },
  {
   "cell_type": "code",
   "execution_count": 1,
   "id": "7c3ad37f",
   "metadata": {},
   "outputs": [
    {
     "name": "stdout",
     "output_type": "stream",
     "text": [
      "we are learning python\n"
     ]
    }
   ],
   "source": [
    "if True:\n",
    "    print(\"we are learning python\") \n",
    "    "
   ]
  },
  {
   "cell_type": "code",
   "execution_count": 4,
   "id": "26ef66fd",
   "metadata": {},
   "outputs": [
    {
     "name": "stdout",
     "output_type": "stream",
     "text": [
      " hello satayrth\n"
     ]
    }
   ],
   "source": [
    "a= 5\n",
    "if a>2:\n",
    "    print(\" hello satayrth\")"
   ]
  },
  {
   "cell_type": "code",
   "execution_count": 5,
   "id": "bb2143f6",
   "metadata": {},
   "outputs": [
    {
     "name": "stdout",
     "output_type": "stream",
     "text": [
      "true it is\n"
     ]
    }
   ],
   "source": [
    "a=1\n",
    "if a==3:\n",
    "    print(\"ok\")\n",
    "elif a==1:\n",
    "    print(\"true it is\")\n",
    "else:\n",
    "    print(\"erro\")"
   ]
  },
  {
   "cell_type": "markdown",
   "id": "7831be2f",
   "metadata": {},
   "source": [
    "# while conditions"
   ]
  },
  {
   "cell_type": "code",
   "execution_count": 20,
   "id": "093d06cb",
   "metadata": {},
   "outputs": [
    {
     "name": "stdout",
     "output_type": "stream",
     "text": [
      "10  value is less than 10\n",
      "9  value is less than 10\n",
      "8  value is less than 10\n",
      "7  value is less than 10\n",
      "6  value is less than 10\n",
      "5  value is less than 10\n",
      "4  value is less than 10\n",
      "3  value is less than 10\n",
      "2  value is less than 10\n",
      "1  value is less than 10\n",
      "0  value is less than 10\n",
      "hi\n"
     ]
    }
   ],
   "source": [
    "import time\n",
    "a=10\n",
    "while(a>=0):\n",
    "    print(a,\" value is less than 10\") \n",
    "    time.sleep(1)\n",
    "    a=a-1\n",
    "print(\"hi\")"
   ]
  },
  {
   "cell_type": "markdown",
   "id": "6e7d2717",
   "metadata": {},
   "source": [
    "# for condition"
   ]
  },
  {
   "cell_type": "code",
   "execution_count": 19,
   "id": "57a75a8f",
   "metadata": {},
   "outputs": [
    {
     "name": "stdout",
     "output_type": "stream",
     "text": [
      "a\n",
      "b\n",
      "c\n",
      "d\n"
     ]
    }
   ],
   "source": [
    "a='abcd'\n",
    "for x in range(0,len(a),):\n",
    "    print(a[x])\n",
    "    "
   ]
  },
  {
   "cell_type": "code",
   "execution_count": 21,
   "id": "1d46acf5",
   "metadata": {},
   "outputs": [
    {
     "name": "stdout",
     "output_type": "stream",
     "text": [
      "hi\n",
      "hi\n",
      "hi\n",
      "hi\n",
      "hi\n",
      "hi\n",
      "hi\n",
      "hi\n",
      "hi\n",
      "hi\n"
     ]
    }
   ],
   "source": [
    "a='helloworld'\n",
    "for i in a:\n",
    "    print()"
   ]
  },
  {
   "cell_type": "code",
   "execution_count": 9,
   "id": "7e8d608e",
   "metadata": {},
   "outputs": [
    {
     "name": "stdout",
     "output_type": "stream",
     "text": [
      "k1 10\n",
      "k2 20.5\n",
      "k3 python\n"
     ]
    }
   ],
   "source": [
    "a={'k1':10,'k2':20.5,'k3':\"python\"}\n",
    "for b,c in a.items():\n",
    "    print(b,c)"
   ]
  },
  {
   "cell_type": "code",
   "execution_count": null,
   "id": "24ba4d22",
   "metadata": {},
   "outputs": [],
   "source": []
  }
 ],
 "metadata": {
  "kernelspec": {
   "display_name": "Python 3 (ipykernel)",
   "language": "python",
   "name": "python3"
  },
  "language_info": {
   "codemirror_mode": {
    "name": "ipython",
    "version": 3
   },
   "file_extension": ".py",
   "mimetype": "text/x-python",
   "name": "python",
   "nbconvert_exporter": "python",
   "pygments_lexer": "ipython3",
   "version": "3.9.13"
  }
 },
 "nbformat": 4,
 "nbformat_minor": 5
}
