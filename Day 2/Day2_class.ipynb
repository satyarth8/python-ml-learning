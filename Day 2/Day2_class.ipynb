{
 "cells": [
  {
   "cell_type": "code",
   "execution_count": 1,
   "id": "ed284b3e",
   "metadata": {},
   "outputs": [
    {
     "name": "stdout",
     "output_type": "stream",
     "text": [
      "Type is :  <class 'dict'>\n",
      "[1, 2, 3]\n"
     ]
    }
   ],
   "source": [
    "# list is in [1,2,3]\n",
    "# Dictionary has a array of  pair of key and value , mutable (modifiable)\n",
    "# [key : value]\n",
    "# key is always string\n",
    "# value is anything\n",
    "\n",
    "a={'k1':10,'k2':10.2,'k3':[1,2,3]}\n",
    "print(\"Type is : \",type(a))\n",
    "\n",
    "print(a['k3']) #send the key and recieve the value\n"
   ]
  },
  {
   "cell_type": "code",
   "execution_count": 2,
   "id": "49261175",
   "metadata": {},
   "outputs": [
    {
     "name": "stdout",
     "output_type": "stream",
     "text": [
      "{'k1': 10, 'k2': 10.5, 'k3': [1, 2, 3], 'k4': '100'}\n",
      "{'k1': 'nielit', 'k2': 10.5, 'k3': [1, 2, 3], 'k4': '100'}\n",
      "dict_items([('k1', 'nielit'), ('k2', 10.5), ('k3', [1, 2, 3]), ('k4', '100')])\n",
      "dict_values(['nielit', 10.5, [1, 2, 3], '100'])\n",
      "dict_keys(['k1', 'k2', 'k3', 'k4'])\n"
     ]
    }
   ],
   "source": [
    "a={'k1':10,'k2':10.5,'k3':[1,2,3]}\n",
    "\n",
    "#add elements\n",
    "a['k4']=\"100\"\n",
    "print(a)\n",
    "a['k1']='nielit'\n",
    "print(a)\n",
    "\n",
    "print(a.items())# returns the elements in the form of tuple\n",
    "\n",
    "print(a.values()) # gives all the values \n",
    "\n",
    "print(a.keys()) # gives all the keys\n"
   ]
  },
  {
   "cell_type": "code",
   "execution_count": 3,
   "id": "08244e33",
   "metadata": {},
   "outputs": [
    {
     "name": "stdout",
     "output_type": "stream",
     "text": [
      "{'k1': 10, 'k2': 10.5}\n"
     ]
    }
   ],
   "source": [
    "a={'k1':10,'k2':10.5,'k3':[1,2,3]}\n",
    "\n",
    "#pop the value \n",
    "a.pop('k3')\n",
    "print(a)"
   ]
  },
  {
   "cell_type": "code",
   "execution_count": 4,
   "id": "2033273e",
   "metadata": {},
   "outputs": [],
   "source": [
    "# TUPLE = immutable dataype , and similar to string\n",
    "# not much use\n"
   ]
  },
  {
   "cell_type": "code",
   "execution_count": null,
   "id": "72dfa4f5",
   "metadata": {},
   "outputs": [],
   "source": []
  }
 ],
 "metadata": {
  "kernelspec": {
   "display_name": "Python 3 (ipykernel)",
   "language": "python",
   "name": "python3"
  },
  "language_info": {
   "codemirror_mode": {
    "name": "ipython",
    "version": 3
   },
   "file_extension": ".py",
   "mimetype": "text/x-python",
   "name": "python",
   "nbconvert_exporter": "python",
   "pygments_lexer": "ipython3",
   "version": "3.11.1"
  }
 },
 "nbformat": 4,
 "nbformat_minor": 5
}
