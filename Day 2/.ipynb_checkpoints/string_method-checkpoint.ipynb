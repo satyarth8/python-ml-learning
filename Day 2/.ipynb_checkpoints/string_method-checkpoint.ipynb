{
 "cells": [
  {
   "cell_type": "code",
   "execution_count": 6,
   "id": "252d50ab",
   "metadata": {},
   "outputs": [
    {
     "name": "stdout",
     "output_type": "stream",
     "text": [
      "a B c D\n",
      "to upper A B C D\n",
      "to lower a b c d\n"
     ]
    }
   ],
   "source": [
    "#upper() , lower()\n",
    "a='a B c D'\n",
    "print(a)\n",
    "print(\"to upper \"+a.upper()) #converts the string to upper case\n",
    "print(\"to lower \"+a.lower()) #converts the string to lower case\n"
   ]
  },
  {
   "cell_type": "code",
   "execution_count": 4,
   "id": "b72e1671",
   "metadata": {},
   "outputs": [
    {
     "name": "stdout",
     "output_type": "stream",
     "text": [
      " satya \n",
      "satya\n"
     ]
    }
   ],
   "source": [
    "#strip()\n",
    "a=\" satya \"\n",
    "print(a)\n",
    "a= a.strip() # removes the whitespace from sides\n",
    "print(a)\n"
   ]
  },
  {
   "cell_type": "code",
   "execution_count": 10,
   "id": "0a144401",
   "metadata": {},
   "outputs": [
    {
     "name": "stdout",
     "output_type": "stream",
     "text": [
      "Satyarth prakash\n"
     ]
    }
   ],
   "source": [
    "#capitalize \n",
    "str=\"Satyarth prakash\"\n",
    "print(str.capitalize()) # capitalizes first letter"
   ]
  },
  {
   "cell_type": "code",
   "execution_count": 12,
   "id": "10f679d5",
   "metadata": {},
   "outputs": [
    {
     "name": "stdout",
     "output_type": "stream",
     "text": [
      "hello\n"
     ]
    }
   ],
   "source": [
    "#replace(old,new)\n",
    "str=\"gekko\"\n",
    "print(str)\n",
    "str=str.replace('g','h') # replace g with h\n",
    "str=str.replace('k','l')\n",
    "print(str)"
   ]
  },
  {
   "cell_type": "code",
   "execution_count": 1,
   "id": "b661faf5",
   "metadata": {},
   "outputs": [
    {
     "name": "stdout",
     "output_type": "stream",
     "text": [
      "['hello', 'my', 'name', 'is', 'satyarth']\n"
     ]
    }
   ],
   "source": [
    "#split- splits the words of string into a list of word\n",
    "str=\" hello my name is satyarth \"\n",
    "print(str.split())"
   ]
  },
  {
   "cell_type": "code",
   "execution_count": 5,
   "id": "eaf8425c",
   "metadata": {},
   "outputs": [
    {
     "name": "stdout",
     "output_type": "stream",
     "text": [
      "satya\n"
     ]
    }
   ],
   "source": [
    "a=['s','a','t','y','a']\n",
    "# Syntax = the character in between the elements.join(a[start:stop:step])\n",
    "b= \"\".join(a[::])\n",
    "print(b)"
   ]
  },
  {
   "cell_type": "code",
   "execution_count": 6,
   "id": "98d38a6f",
   "metadata": {},
   "outputs": [
    {
     "name": "stdout",
     "output_type": "stream",
     "text": [
      "1\n"
     ]
    }
   ],
   "source": [
    "#find(substring) = return the index of the first occurence of the value given as the substring\n",
    "a=\"satyarth\"\n",
    "print(a.find('a'))"
   ]
  },
  {
   "cell_type": "code",
   "execution_count": 9,
   "id": "57b2ba43",
   "metadata": {},
   "outputs": [
    {
     "name": "stdout",
     "output_type": "stream",
     "text": [
      "True\n",
      "True\n"
     ]
    }
   ],
   "source": [
    "#Startswith(substring) = returns True or False if the string starts with the substring or not\n",
    "a=\"satyarth\"\n",
    "print(a.startswith(\"satya\"))\n",
    "\n",
    "#endswith(substring) = returns True or False if the string ends with the substring or not\n",
    "a=\"satyarth\"\n",
    "print(a.endswith(\"arth\"))"
   ]
  },
  {
   "cell_type": "code",
   "execution_count": 12,
   "id": "eaa46867",
   "metadata": {},
   "outputs": [
    {
     "name": "stdout",
     "output_type": "stream",
     "text": [
      "10\n"
     ]
    }
   ],
   "source": [
    "#len(string_name)= returns the number of characters in the string\n",
    "a=\"helloworld\"\n",
    "print(len(a))"
   ]
  },
  {
   "cell_type": "code",
   "execution_count": 13,
   "id": "046c81e7",
   "metadata": {},
   "outputs": [
    {
     "name": "stdout",
     "output_type": "stream",
     "text": [
      "2\n"
     ]
    }
   ],
   "source": [
    "#count(substring)= no. of times a substring is present in the string\n",
    "a=\"satyarth\"\n",
    "print(a.count(\"a\"))\n"
   ]
  },
  {
   "cell_type": "code",
   "execution_count": 15,
   "id": "2cd72818",
   "metadata": {},
   "outputs": [
    {
     "name": "stdout",
     "output_type": "stream",
     "text": [
      "False\n"
     ]
    }
   ],
   "source": [
    "#isalpha() = true all elements are alphabet\n",
    "a=\"hello3\"\n",
    "print(a.isalpha())"
   ]
  },
  {
   "cell_type": "code",
   "execution_count": 17,
   "id": "8b420345",
   "metadata": {},
   "outputs": [
    {
     "name": "stdout",
     "output_type": "stream",
     "text": [
      "False\n"
     ]
    }
   ],
   "source": [
    "#isdigit() = true if all the elements are digit\n",
    "a=\"2a13\"\n",
    "print(a.isdigit())"
   ]
  },
  {
   "cell_type": "code",
   "execution_count": 18,
   "id": "2cf4ed8c",
   "metadata": {},
   "outputs": [
    {
     "name": "stdout",
     "output_type": "stream",
     "text": [
      "True\n"
     ]
    }
   ],
   "source": [
    "#isalnum() = true if a string contains both alphabet and numbers\n",
    "a=\"satay213\"\n",
    "print(a.isalnum())\n"
   ]
  },
  {
   "cell_type": "code",
   "execution_count": 19,
   "id": "e3263260",
   "metadata": {},
   "outputs": [
    {
     "name": "stdout",
     "output_type": "stream",
     "text": [
      "Satya Prakash\n"
     ]
    }
   ],
   "source": [
    "#title() = Capitalize the first letter of the words in the string\n",
    "a=\"satya prakash\"\n",
    "print(a.title())\n"
   ]
  },
  {
   "cell_type": "code",
   "execution_count": 20,
   "id": "aa1b2db6",
   "metadata": {},
   "outputs": [
    {
     "name": "stdout",
     "output_type": "stream",
     "text": [
      "HELLO satya\n"
     ]
    }
   ],
   "source": [
    "#swapcase() = changes upper to lower and lower to upper case\n",
    "a=\"hello SATYA\"\n",
    "print(a.swapcase())"
   ]
  },
  {
   "cell_type": "code",
   "execution_count": null,
   "id": "a2b68501",
   "metadata": {},
   "outputs": [],
   "source": []
  }
 ],
 "metadata": {
  "kernelspec": {
   "display_name": "Python 3 (ipykernel)",
   "language": "python",
   "name": "python3"
  },
  "language_info": {
   "codemirror_mode": {
    "name": "ipython",
    "version": 3
   },
   "file_extension": ".py",
   "mimetype": "text/x-python",
   "name": "python",
   "nbconvert_exporter": "python",
   "pygments_lexer": "ipython3",
   "version": "3.9.13"
  }
 },
 "nbformat": 4,
 "nbformat_minor": 5
}
