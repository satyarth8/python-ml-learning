{
 "cells": [
  {
   "cell_type": "markdown",
   "id": "61ff8d4e",
   "metadata": {},
   "source": [
    "# Creating, Reading and Writing\n",
    "    "
   ]
  },
  {
   "cell_type": "markdown",
   "id": "2d593343",
   "metadata": {},
   "source": [
    "# What is a DataFrame?\n",
    "#### A Pandas DataFrame is a 2 dimensional data structure, like a 2 dimensional array, or a table with rows and columns.\n"
   ]
  },
  {
   "cell_type": "code",
   "execution_count": 2,
   "id": "dc52e695",
   "metadata": {},
   "outputs": [
    {
     "name": "stdout",
     "output_type": "stream",
     "text": [
      "            calories  duration\n",
      "maggi            420        50\n",
      "mango            380        40\n",
      "manchurian       390        45\n"
     ]
    }
   ],
   "source": [
    "# Creating Dataframes\n",
    "import pandas as pd\n",
    "\n",
    "data = {\n",
    "  \"calories\": [420, 380, 390],\n",
    "  \"duration\": [50, 40, 45]\n",
    "}\n",
    "\n",
    "df = pd.DataFrame(data,index=['maggi','mango','manchurian'])\n",
    "print(df)"
   ]
  },
  {
   "cell_type": "code",
   "execution_count": 3,
   "id": "9412f4bc",
   "metadata": {},
   "outputs": [
    {
     "name": "stdout",
     "output_type": "stream",
     "text": [
      "calories    420\n",
      "duration     50\n",
      "Name: maggi, dtype: int64\n"
     ]
    }
   ],
   "source": [
    "#Locate Row with index or we can used index too\n",
    "print(df.loc[\"maggi\"])"
   ]
  },
  {
   "cell_type": "code",
   "execution_count": null,
   "id": "5d9e8843",
   "metadata": {},
   "outputs": [],
   "source": [
    "\n",
    "# Load Files Into a DataFrame\n",
    "import pandas as pd\n",
    "\n",
    "df = pd.read_csv('data.csv')\n",
    "\n",
    "print(df) "
   ]
  },
  {
   "cell_type": "code",
   "execution_count": 4,
   "id": "29968933",
   "metadata": {},
   "outputs": [
    {
     "name": "stdout",
     "output_type": "stream",
     "text": [
      "[1 1]\n"
     ]
    }
   ],
   "source": [
    "import numpy as np\n",
    "a=np.random.randint(10,size=(3,3))\n",
    "print(a)"
   ]
  },
  {
   "cell_type": "code",
   "execution_count": null,
   "id": "ca2ffc3c",
   "metadata": {},
   "outputs": [],
   "source": []
  }
 ],
 "metadata": {
  "kernelspec": {
   "display_name": "Python 3 (ipykernel)",
   "language": "python",
   "name": "python3"
  },
  "language_info": {
   "codemirror_mode": {
    "name": "ipython",
    "version": 3
   },
   "file_extension": ".py",
   "mimetype": "text/x-python",
   "name": "python",
   "nbconvert_exporter": "python",
   "pygments_lexer": "ipython3",
   "version": "3.9.13"
  }
 },
 "nbformat": 4,
 "nbformat_minor": 5
}
