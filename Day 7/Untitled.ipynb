{
 "cells": [
  {
   "cell_type": "markdown",
   "id": "7049f723",
   "metadata": {},
   "source": [
    "# defining numpy array"
   ]
  },
  {
   "cell_type": "code",
   "execution_count": 2,
   "id": "ec8ff8fa",
   "metadata": {},
   "outputs": [
    {
     "data": {
      "text/plain": [
       "numpy.ndarray"
      ]
     },
     "execution_count": 2,
     "metadata": {},
     "output_type": "execute_result"
    }
   ],
   "source": [
    "import numpy as np\n",
    "a=[1,2,3]\n",
    "b=np.array(a)\n",
    "type(b)"
   ]
  },
  {
   "cell_type": "code",
   "execution_count": 6,
   "id": "50fc42cc",
   "metadata": {},
   "outputs": [
    {
     "name": "stdout",
     "output_type": "stream",
     "text": [
      "[1. 2. 3. 4.]\n"
     ]
    }
   ],
   "source": [
    "# set datatype\n",
    "b=[1,2,3,4]\n",
    "print(np.array(b,dtype='float32'))"
   ]
  },
  {
   "cell_type": "markdown",
   "id": "93940af1",
   "metadata": {},
   "source": [
    "# Creating numpy array"
   ]
  },
  {
   "cell_type": "code",
   "execution_count": 9,
   "id": "8a1f791a",
   "metadata": {},
   "outputs": [
    {
     "data": {
      "text/plain": [
       "array([0, 0, 0, 0, 0, 0, 0, 0, 0, 0])"
      ]
     },
     "execution_count": 9,
     "metadata": {},
     "output_type": "execute_result"
    }
   ],
   "source": [
    "# array with only 0\n",
    "np.zeros(10,dtype=int)"
   ]
  },
  {
   "cell_type": "code",
   "execution_count": null,
   "id": "58ef9e26",
   "metadata": {},
   "outputs": [],
   "source": [
    "# array with"
   ]
  },
  {
   "cell_type": "markdown",
   "id": "39b7ac0c",
   "metadata": {},
   "source": [
    "# NumPy Array Attributes"
   ]
  },
  {
   "cell_type": "code",
   "execution_count": 25,
   "id": "a8f5b31c",
   "metadata": {},
   "outputs": [
    {
     "name": "stdout",
     "output_type": "stream",
     "text": [
      "[[1 7 6 9]\n",
      " [2 4 5 2]\n",
      " [4 2 4 7]]\n",
      "size =  12\n",
      "dimension =  2\n",
      "shape =  (3, 4)\n",
      "datatype =  int32\n",
      "itemsize =  4\n",
      "nbytes =  48\n"
     ]
    }
   ],
   "source": [
    "import numpy as np\n",
    "np.random.seed(1) # seed for reproducibility\n",
    "x1= np.random.randint(10, size=6) #one- dimensional array\n",
    "x2=np.random.randint(10,size=(3,4))\n",
    "print(x2)\n",
    "print(\"size = \",x2.size)\n",
    "print(\"dimension = \",x2.ndim)\n",
    "print(\"shape = \",x2.shape)\n",
    "print(\"datatype = \",x2.dtype) # datatype \n",
    "print(\"itemsize = \",x2.itemsize) #size of an element\n",
    "print(\"nbytes = \",x2.nbytes) # total size of elements\n"
   ]
  },
  {
   "cell_type": "markdown",
   "id": "7d56fbea",
   "metadata": {},
   "source": [
    "# Array Indexing : Accessing Elements"
   ]
  },
  {
   "cell_type": "code",
   "execution_count": 26,
   "id": "17c26c83",
   "metadata": {},
   "outputs": [
    {
     "data": {
      "text/plain": [
       "array([5, 8, 9, 5, 0, 0])"
      ]
     },
     "execution_count": 26,
     "metadata": {},
     "output_type": "execute_result"
    }
   ],
   "source": [
    "x1"
   ]
  },
  {
   "cell_type": "code",
   "execution_count": 27,
   "id": "882d79e6",
   "metadata": {},
   "outputs": [
    {
     "data": {
      "text/plain": [
       "5"
      ]
     },
     "execution_count": 27,
     "metadata": {},
     "output_type": "execute_result"
    }
   ],
   "source": [
    "x1[0]"
   ]
  },
  {
   "cell_type": "code",
   "execution_count": null,
   "id": "c8f02525",
   "metadata": {},
   "outputs": [],
   "source": [
    "#Accessing 2d array\n",
    "np.random.seed(0)\n",
    "x3=np.random.randint(10,size=(3,3),dtype=int)\n",
    "print(x3)\n",
    "print(x3[0,0],x3[1,1],x3[2,2]) #diagonal elements\n"
   ]
  },
  {
   "cell_type": "markdown",
   "id": "51557f17",
   "metadata": {},
   "source": [
    "# Array Slicing : Accessing Subarray\n",
    "## x[start:stop:step]\n"
   ]
  },
  {
   "cell_type": "markdown",
   "id": "ae5b9adf",
   "metadata": {},
   "source": [
    "# Subarray as no copy views\n",
    "## array slices return views rather than copies of the array data\n"
   ]
  },
  {
   "cell_type": "code",
   "execution_count": 63,
   "id": "f2df9e68",
   "metadata": {},
   "outputs": [
    {
     "name": "stdout",
     "output_type": "stream",
     "text": [
      "[[5 0 3]\n",
      " [3 7 9]\n",
      " [3 5 2]]\n",
      "[3 7 9]\n",
      "[[7 9]\n",
      " [5 2]]\n"
     ]
    }
   ],
   "source": [
    "np.random.seed(0)\n",
    "x4=np.random.randint(10,size=(3,3),dtype=int)\n",
    "print(x4,end=\"\\n\")\n",
    "#subarray\n",
    "print(x4[1],end=\"\\n\")\n",
    "print(x4[1:3,1:3])"
   ]
  },
  {
   "cell_type": "code",
   "execution_count": 67,
   "id": "c4b6d72a",
   "metadata": {},
   "outputs": [
    {
     "name": "stdout",
     "output_type": "stream",
     "text": [
      "[[99  9]\n",
      " [ 5  2]]\n",
      "[[99  9]\n",
      " [ 5  2]]\n",
      "[[ 5  0  3]\n",
      " [ 3 99  9]\n",
      " [ 3  5  2]]\n"
     ]
    }
   ],
   "source": [
    "x2=x4[1:3,1:3]\n",
    "print(x2)\n",
    "x2[0,0]=99\n",
    "print(x2)\n",
    "print(x4)"
   ]
  },
  {
   "cell_type": "markdown",
   "id": "e09c94b0",
   "metadata": {},
   "source": [
    "# Now if we modify this subarray, we'll see that the original array is changed! "
   ]
  },
  {
   "cell_type": "markdown",
   "id": "fd930475",
   "metadata": {},
   "source": [
    "## This default behavior is actually quite useful: it means that when we work with large datasets, we can access and process pieces of these datasets without the need to copy the underlying data buffer.\n",
    "\n"
   ]
  },
  {
   "cell_type": "markdown",
   "id": "8642224e",
   "metadata": {},
   "source": [
    "# Creating Copies of Array "
   ]
  }
 ],
 "metadata": {
  "kernelspec": {
   "display_name": "Python 3 (ipykernel)",
   "language": "python",
   "name": "python3"
  },
  "language_info": {
   "codemirror_mode": {
    "name": "ipython",
    "version": 3
   },
   "file_extension": ".py",
   "mimetype": "text/x-python",
   "name": "python",
   "nbconvert_exporter": "python",
   "pygments_lexer": "ipython3",
   "version": "3.9.13"
  }
 },
 "nbformat": 4,
 "nbformat_minor": 5
}
