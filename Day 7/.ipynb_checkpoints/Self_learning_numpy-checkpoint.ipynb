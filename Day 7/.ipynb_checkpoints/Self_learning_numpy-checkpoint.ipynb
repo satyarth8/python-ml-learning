{
 "cells": [
  {
   "cell_type": "markdown",
   "id": "5b20a957",
   "metadata": {},
   "source": [
    "# defining numpy array"
   ]
  },
  {
   "cell_type": "code",
   "execution_count": 2,
   "id": "d9694bd6",
   "metadata": {},
   "outputs": [
    {
     "data": {
      "text/plain": [
       "numpy.ndarray"
      ]
     },
     "execution_count": 2,
     "metadata": {},
     "output_type": "execute_result"
    }
   ],
   "source": [
    "import numpy as np\n",
    "a=[1,2,3]\n",
    "b=np.array(a)\n",
    "type(b)"
   ]
  },
  {
   "cell_type": "code",
   "execution_count": 3,
   "id": "30830416",
   "metadata": {},
   "outputs": [
    {
     "name": "stdout",
     "output_type": "stream",
     "text": [
      "[1. 2. 3. 4.]\n"
     ]
    }
   ],
   "source": [
    "# set datatype\n",
    "b=[1,2,3,4]\n",
    "print(np.array(b,dtype='float32'))"
   ]
  },
  {
   "cell_type": "markdown",
   "id": "aca91b2d",
   "metadata": {},
   "source": [
    "# Creating numpy array"
   ]
  },
  {
   "cell_type": "code",
   "execution_count": 4,
   "id": "c262fe7a",
   "metadata": {},
   "outputs": [
    {
     "data": {
      "text/plain": [
       "array([0, 0, 0, 0, 0, 0, 0, 0, 0, 0])"
      ]
     },
     "execution_count": 4,
     "metadata": {},
     "output_type": "execute_result"
    }
   ],
   "source": [
    "# array with only 0\n",
    "np.zeros(10,dtype=int)"
   ]
  },
  {
   "cell_type": "code",
   "execution_count": 5,
   "id": "adfb59eb",
   "metadata": {},
   "outputs": [],
   "source": [
    "# array with"
   ]
  },
  {
   "cell_type": "markdown",
   "id": "7b87d7ce",
   "metadata": {},
   "source": [
    "# NumPy Array Attributes"
   ]
  },
  {
   "cell_type": "code",
   "execution_count": 6,
   "id": "550af738",
   "metadata": {},
   "outputs": [
    {
     "name": "stdout",
     "output_type": "stream",
     "text": [
      "[[1 7 6 9]\n",
      " [2 4 5 2]\n",
      " [4 2 4 7]]\n",
      "size =  12\n",
      "dimension =  2\n",
      "shape =  (3, 4)\n",
      "datatype =  int32\n",
      "itemsize =  4\n",
      "nbytes =  48\n"
     ]
    }
   ],
   "source": [
    "import numpy as np\n",
    "np.random.seed(1) # seed for reproducibility\n",
    "x1= np.random.randint(10, size=6) #one- dimensional array\n",
    "x2=np.random.randint(10,size=(3,4))\n",
    "print(x2)\n",
    "print(\"size = \",x2.size)\n",
    "print(\"dimension = \",x2.ndim)\n",
    "print(\"shape = \",x2.shape)\n",
    "print(\"datatype = \",x2.dtype) # datatype \n",
    "print(\"itemsize = \",x2.itemsize) #size of an element\n",
    "print(\"nbytes = \",x2.nbytes) # total size of elements\n"
   ]
  },
  {
   "cell_type": "markdown",
   "id": "66027a5c",
   "metadata": {},
   "source": [
    "# Array Indexing : Accessing Elements"
   ]
  },
  {
   "cell_type": "code",
   "execution_count": 7,
   "id": "157bd64c",
   "metadata": {},
   "outputs": [
    {
     "data": {
      "text/plain": [
       "array([5, 8, 9, 5, 0, 0])"
      ]
     },
     "execution_count": 7,
     "metadata": {},
     "output_type": "execute_result"
    }
   ],
   "source": [
    "x1"
   ]
  },
  {
   "cell_type": "code",
   "execution_count": 8,
   "id": "d1571b67",
   "metadata": {},
   "outputs": [
    {
     "data": {
      "text/plain": [
       "5"
      ]
     },
     "execution_count": 8,
     "metadata": {},
     "output_type": "execute_result"
    }
   ],
   "source": [
    "x1[0]"
   ]
  },
  {
   "cell_type": "code",
   "execution_count": 9,
   "id": "56a59021",
   "metadata": {},
   "outputs": [
    {
     "name": "stdout",
     "output_type": "stream",
     "text": [
      "[[5 0 3]\n",
      " [3 7 9]\n",
      " [3 5 2]]\n",
      "5 7 2\n"
     ]
    }
   ],
   "source": [
    "#Accessing 2d array\n",
    "np.random.seed(0)\n",
    "x3=np.random.randint(10,size=(3,3),dtype=int)\n",
    "print(x3)\n",
    "print(x3[0,0],x3[1,1],x3[2,2]) #diagonal elements\n"
   ]
  },
  {
   "cell_type": "markdown",
   "id": "ae94764a",
   "metadata": {},
   "source": [
    "# Array Slicing : Accessing Subarray\n",
    "## x[start:stop:step]\n"
   ]
  },
  {
   "cell_type": "markdown",
   "id": "2a438977",
   "metadata": {},
   "source": [
    "# Subarray as no copy views\n",
    "## array slices return views rather than copies of the array data\n"
   ]
  },
  {
   "cell_type": "code",
   "execution_count": 10,
   "id": "e4ae6e3a",
   "metadata": {},
   "outputs": [
    {
     "name": "stdout",
     "output_type": "stream",
     "text": [
      "[[5 0 3]\n",
      " [3 7 9]\n",
      " [3 5 2]]\n",
      "[3 7 9]\n",
      "[[7 9]\n",
      " [5 2]]\n"
     ]
    }
   ],
   "source": [
    "np.random.seed(0)\n",
    "x4=np.random.randint(10,size=(3,3),dtype=int)\n",
    "print(x4,end=\"\\n\")\n",
    "#subarray\n",
    "print(x4[1],end=\"\\n\")\n",
    "print(x4[1:3,1:3])"
   ]
  },
  {
   "cell_type": "code",
   "execution_count": 11,
   "id": "edf37247",
   "metadata": {},
   "outputs": [
    {
     "name": "stdout",
     "output_type": "stream",
     "text": [
      "[[7 9]\n",
      " [5 2]]\n",
      "[[99  9]\n",
      " [ 5  2]]\n",
      "[[ 5  0  3]\n",
      " [ 3 99  9]\n",
      " [ 3  5  2]]\n"
     ]
    }
   ],
   "source": [
    "x2=x4[1:3,1:3]\n",
    "print(x2)\n",
    "x2[0,0]=99\n",
    "print(x2)\n",
    "print(x4)"
   ]
  },
  {
   "cell_type": "markdown",
   "id": "95be21cd",
   "metadata": {},
   "source": [
    "# Now if we modify this subarray, we'll see that the original array is changed! "
   ]
  },
  {
   "cell_type": "markdown",
   "id": "e6b49626",
   "metadata": {},
   "source": [
    "## This default behavior is actually quite useful: it means that when we work with large datasets, we can access and process pieces of these datasets without the need to copy the underlying data buffer.\n",
    "\n"
   ]
  },
  {
   "cell_type": "markdown",
   "id": "ed605c06",
   "metadata": {},
   "source": [
    "# Creating Copies of Array "
   ]
  },
  {
   "cell_type": "code",
   "execution_count": 16,
   "id": "35bbab3e",
   "metadata": {},
   "outputs": [
    {
     "name": "stdout",
     "output_type": "stream",
     "text": [
      "[[99  9]\n",
      " [ 5  2]]\n",
      "x5 [[0 9]\n",
      " [5 2]]\n",
      "x2 [[99  9]\n",
      " [ 5  2]]\n"
     ]
    }
   ],
   "source": [
    "x5=x2.copy()\n",
    "print(x5)\n",
    "x5[0,0]=0\n",
    "print(\"x5\",x5)\n",
    "print(\"x2\",x2) # no changes reflected back"
   ]
  },
  {
   "cell_type": "markdown",
   "id": "757e2201",
   "metadata": {},
   "source": [
    "# Array Arithmetic"
   ]
  },
  {
   "cell_type": "code",
   "execution_count": 17,
   "id": "37f492b1",
   "metadata": {},
   "outputs": [
    {
     "name": "stdout",
     "output_type": "stream",
     "text": [
      "x     = [0 1 2 3]\n",
      "x + 5 = [5 6 7 8]\n",
      "x - 5 = [-5 -4 -3 -2]\n",
      "x * 2 = [0 2 4 6]\n",
      "x / 2 = [0.  0.5 1.  1.5]\n",
      "x // 2 = [0 0 1 1]\n"
     ]
    }
   ],
   "source": [
    "x = np.arange(4)\n",
    "print(\"x     =\", x)\n",
    "print(\"x + 5 =\", x + 5)\n",
    "print(\"x - 5 =\", x - 5)\n",
    "print(\"x * 2 =\", x * 2)\n",
    "print(\"x / 2 =\", x / 2)\n",
    "print(\"x // 2 =\", x // 2)  # floor division"
   ]
  },
  {
   "cell_type": "code",
   "execution_count": 18,
   "id": "ef06738e",
   "metadata": {},
   "outputs": [
    {
     "name": "stdout",
     "output_type": "stream",
     "text": [
      "-x     =  [ 0 -1 -2 -3]\n",
      "x ** 2 =  [0 1 4 9]\n",
      "x % 2  =  [0 1 0 1]\n"
     ]
    }
   ],
   "source": [
    "print(\"-x     = \", -x)\n",
    "print(\"x ** 2 = \", x ** 2)\n",
    "print(\"x % 2  = \", x % 2)"
   ]
  },
  {
   "cell_type": "code",
   "execution_count": null,
   "id": "8346d922",
   "metadata": {},
   "outputs": [],
   "source": []
  },
  {
   "cell_type": "markdown",
   "id": "e23295f5",
   "metadata": {},
   "source": [
    "# Exponents , logarithms and Trigno"
   ]
  },
  {
   "cell_type": "code",
   "execution_count": 20,
   "id": "708d2c25",
   "metadata": {},
   "outputs": [
    {
     "name": "stdout",
     "output_type": "stream",
     "text": [
      "theta      =  [0.         1.57079633 3.14159265]\n",
      "sin(theta) =  [0.0000000e+00 1.0000000e+00 1.2246468e-16]\n",
      "cos(theta) =  [ 1.000000e+00  6.123234e-17 -1.000000e+00]\n",
      "tan(theta) =  [ 0.00000000e+00  1.63312394e+16 -1.22464680e-16]\n"
     ]
    }
   ],
   "source": [
    "theta = np.linspace(0, np.pi, 3)\n",
    "print(\"theta      = \", theta)\n",
    "print(\"sin(theta) = \", np.sin(theta))\n",
    "print(\"cos(theta) = \", np.cos(theta))\n",
    "print(\"tan(theta) = \", np.tan(theta))"
   ]
  },
  {
   "cell_type": "code",
   "execution_count": 21,
   "id": "d283fbfe",
   "metadata": {},
   "outputs": [
    {
     "name": "stdout",
     "output_type": "stream",
     "text": [
      "x        = [1, 2, 4, 10]\n",
      "ln(x)    = [0.         0.69314718 1.38629436 2.30258509]\n",
      "log2(x)  = [0.         1.         2.         3.32192809]\n",
      "log10(x) = [0.         0.30103    0.60205999 1.        ]\n"
     ]
    }
   ],
   "source": [
    "x = [1, 2, 4, 10]\n",
    "print(\"x        =\", x)\n",
    "print(\"ln(x)    =\", np.log(x))\n",
    "print(\"log2(x)  =\", np.log2(x))\n",
    "print(\"log10(x) =\", np.log10(x))"
   ]
  },
  {
   "cell_type": "code",
   "execution_count": null,
   "id": "bbf7c26a",
   "metadata": {},
   "outputs": [],
   "source": [
    "np.sum = compute sum of elements\n",
    "np.prod =Compute product of elements\n",
    "np.mean = Compute mean of elements\n",
    "np.std = Compute standard deviation\n",
    "np.var = \tCompute variance"
   ]
  },
  {
   "cell_type": "code",
   "execution_count": null,
   "id": "6aed85fa",
   "metadata": {},
   "outputs": [],
   "source": []
  }
 ],
 "metadata": {
  "kernelspec": {
   "display_name": "Python 3 (ipykernel)",
   "language": "python",
   "name": "python3"
  },
  "language_info": {
   "codemirror_mode": {
    "name": "ipython",
    "version": 3
   },
   "file_extension": ".py",
   "mimetype": "text/x-python",
   "name": "python",
   "nbconvert_exporter": "python",
   "pygments_lexer": "ipython3",
   "version": "3.9.13"
  }
 },
 "nbformat": 4,
 "nbformat_minor": 5
}
