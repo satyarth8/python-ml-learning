{
 "cells": [
  {
   "cell_type": "code",
   "execution_count": 2,
   "metadata": {},
   "outputs": [],
   "source": [
    "#iloc - pandas\n",
    "import pandas as pd\n",
    "df = pd.DataFrame({'Name': ['John', 'Alice', 'Bob', 'Lisa'],'Age': [25, 30, 35, 40],'Country': ['USA', 'Canada', 'UK', 'Australia']})\n",
    "df.head()\n",
    "first_row= df.iloc[0]"
   ]
  }
 ],
 "metadata": {
  "kernelspec": {
   "display_name": "Python 3",
   "language": "python",
   "name": "python3"
  },
  "language_info": {
   "codemirror_mode": {
    "name": "ipython",
    "version": 3
   },
   "file_extension": ".py",
   "mimetype": "text/x-python",
   "name": "python",
   "nbconvert_exporter": "python",
   "pygments_lexer": "ipython3",
   "version": "3.11.1"
  },
  "orig_nbformat": 4
 },
 "nbformat": 4,
 "nbformat_minor": 2
}
