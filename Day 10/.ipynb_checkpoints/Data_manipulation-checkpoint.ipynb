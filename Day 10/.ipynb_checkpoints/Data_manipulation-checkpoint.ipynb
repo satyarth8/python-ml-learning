{
 "cells": [
  {
   "cell_type": "markdown",
   "id": "ebb8972c",
   "metadata": {},
   "source": [
    "# Removing nan values"
   ]
  },
  {
   "cell_type": "code",
   "execution_count": 26,
   "id": "440df932",
   "metadata": {},
   "outputs": [],
   "source": [
    "#making a proper dataframe\n",
    "import pandas as pd\n",
    "import numpy as np\n",
    "a=[1,2,3,4,np.nan]\n",
    "b=[1,2,3,np.nan,5]\n",
    "c=[np.nan,1,2,3,4]\n",
    "d=[1,2,3,4,5]\n",
    "df=pd.DataFrame([a,b,c,d],columns=list(\"abcde\"),index=[\"first\",\"second\",\"third\",\"foruth\"])\n"
   ]
  },
  {
   "cell_type": "code",
   "execution_count": 27,
   "id": "c7b72d61",
   "metadata": {},
   "outputs": [
    {
     "data": {
      "text/html": [
       "<div>\n",
       "<style scoped>\n",
       "    .dataframe tbody tr th:only-of-type {\n",
       "        vertical-align: middle;\n",
       "    }\n",
       "\n",
       "    .dataframe tbody tr th {\n",
       "        vertical-align: top;\n",
       "    }\n",
       "\n",
       "    .dataframe thead th {\n",
       "        text-align: right;\n",
       "    }\n",
       "</style>\n",
       "<table border=\"1\" class=\"dataframe\">\n",
       "  <thead>\n",
       "    <tr style=\"text-align: right;\">\n",
       "      <th></th>\n",
       "      <th>a</th>\n",
       "      <th>b</th>\n",
       "      <th>c</th>\n",
       "      <th>d</th>\n",
       "      <th>e</th>\n",
       "    </tr>\n",
       "  </thead>\n",
       "  <tbody>\n",
       "    <tr>\n",
       "      <th>first</th>\n",
       "      <td>1.0</td>\n",
       "      <td>2</td>\n",
       "      <td>3</td>\n",
       "      <td>4.0</td>\n",
       "      <td>NaN</td>\n",
       "    </tr>\n",
       "    <tr>\n",
       "      <th>second</th>\n",
       "      <td>1.0</td>\n",
       "      <td>2</td>\n",
       "      <td>3</td>\n",
       "      <td>NaN</td>\n",
       "      <td>5.0</td>\n",
       "    </tr>\n",
       "  </tbody>\n",
       "</table>\n",
       "</div>"
      ],
      "text/plain": [
       "          a  b  c    d    e\n",
       "first   1.0  2  3  4.0  NaN\n",
       "second  1.0  2  3  NaN  5.0"
      ]
     },
     "execution_count": 27,
     "metadata": {},
     "output_type": "execute_result"
    }
   ],
   "source": [
    "df.head(2)"
   ]
  },
  {
   "cell_type": "markdown",
   "id": "87ab05d8",
   "metadata": {},
   "source": [
    "### pd.dropna() is a method in pandas used to remove missing values (NaN values) from a DataFrame. \n",
    "### The syntax for using pd.dropna() is as follows:\n",
    "```\n",
    "df.dropna(axis=0, how='any', thresh=None, subset=None, inplace=False)\n",
    "```"
   ]
  },
  {
   "cell_type": "code",
   "execution_count": null,
   "id": "fb194e0c",
   "metadata": {},
   "outputs": [],
   "source": [
    "df2=df.dropna()"
   ]
  }
 ],
 "metadata": {
  "kernelspec": {
   "display_name": "Python 3 (ipykernel)",
   "language": "python",
   "name": "python3"
  },
  "language_info": {
   "codemirror_mode": {
    "name": "ipython",
    "version": 3
   },
   "file_extension": ".py",
   "mimetype": "text/x-python",
   "name": "python",
   "nbconvert_exporter": "python",
   "pygments_lexer": "ipython3",
   "version": "3.9.13"
  }
 },
 "nbformat": 4,
 "nbformat_minor": 5
}
