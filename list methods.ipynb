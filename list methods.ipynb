{
 "cells": [
  {
   "cell_type": "markdown",
   "id": "88cc806d",
   "metadata": {},
   "source": [
    "# List Methods"
   ]
  },
  {
   "cell_type": "code",
   "execution_count": null,
   "id": "54460244",
   "metadata": {},
   "outputs": [],
   "source": [
    "# append() \n",
    "a=[1,2,3]\n",
    "a.append(4)\n",
    "print(a)"
   ]
  },
  {
   "cell_type": "code",
   "execution_count": null,
   "id": "6f5574bc",
   "metadata": {
    "scrolled": true
   },
   "outputs": [],
   "source": [
    "#clear\n",
    "a.clear()\n",
    "print(a)"
   ]
  },
  {
   "cell_type": "code",
   "execution_count": null,
   "id": "5076866c",
   "metadata": {},
   "outputs": [],
   "source": [
    "#copy\n",
    "a=[2,3,4,3,3,3,'3']\n",
    "b=a.copy()\n",
    "print(b)"
   ]
  },
  {
   "cell_type": "code",
   "execution_count": null,
   "id": "767ad320",
   "metadata": {},
   "outputs": [],
   "source": [
    "#count()\n",
    "a.count('3')"
   ]
  },
  {
   "cell_type": "code",
   "execution_count": null,
   "id": "4882775e",
   "metadata": {},
   "outputs": [],
   "source": [
    "c=[1,2]\n",
    "c.extend([3,4])\n",
    "print(c)"
   ]
  },
  {
   "cell_type": "code",
   "execution_count": null,
   "id": "a7d4311d",
   "metadata": {},
   "outputs": [],
   "source": [
    "c.index(9)"
   ]
  },
  {
   "cell_type": "code",
   "execution_count": null,
   "id": "8a6f1cdd",
   "metadata": {},
   "outputs": [],
   "source": [
    "#insert()\n",
    "c.insert(7,16)\n",
    "print(c)"
   ]
  },
  {
   "cell_type": "code",
   "execution_count": null,
   "id": "1bf5e68f",
   "metadata": {},
   "outputs": [],
   "source": [
    "#pop()\n",
    "c=[1,2,3,4]\n",
    "print(c)\n",
    "print(c.pop())\n",
    "print(c)\n",
    "print(c.pop(0))\n",
    "print(c)"
   ]
  },
  {
   "cell_type": "code",
   "execution_count": null,
   "id": "d19016e6",
   "metadata": {},
   "outputs": [],
   "source": [
    "#remove()\n",
    "a=[1,2,3,3]\n",
    "a.remove(3)\n",
    "print(a)\n",
    "a.reverse()\n",
    "print(a)"
   ]
  },
  {
   "cell_type": "code",
   "execution_count": null,
   "id": "2fa0d40d",
   "metadata": {},
   "outputs": [],
   "source": [
    "#sort\n",
    "a=[4,1,2,6,5,3]\n",
    "a.sort()\n",
    "print(a)\n",
    "a.sort(reverse=True)\n",
    "print(a)"
   ]
  },
  {
   "cell_type": "code",
   "execution_count": null,
   "id": "45d8c6dc",
   "metadata": {},
   "outputs": [],
   "source": [
    "# __add__ or + or concatenation\n",
    "a=[1,2,3,4]\n",
    "b=[5,6,7,8]\n",
    "print(a+b)"
   ]
  },
  {
   "cell_type": "code",
   "execution_count": 2,
   "id": "294e21cf",
   "metadata": {},
   "outputs": [
    {
     "name": "stdout",
     "output_type": "stream",
     "text": [
      "True False\n"
     ]
    }
   ],
   "source": [
    "# __contains__ or in \n",
    "a=[1,2,3,4]\n",
    "print(3 in a,8 in a)"
   ]
  },
  {
   "cell_type": "code",
   "execution_count": 4,
   "id": "cfab3abf",
   "metadata": {},
   "outputs": [
    {
     "name": "stdout",
     "output_type": "stream",
     "text": [
      "[12]\n"
     ]
    }
   ],
   "source": [
    "a=[12,34]\n",
    "del a[1]\n",
    "print(a)"
   ]
  },
  {
   "cell_type": "code",
   "execution_count": 8,
   "id": "6087d6f5",
   "metadata": {},
   "outputs": [
    {
     "name": "stdout",
     "output_type": "stream",
     "text": [
      "[1, 3, 1, 3, 1, 3] [1, 3]\n"
     ]
    }
   ],
   "source": [
    "a=[1,3]\n",
    "b=[1,3]\n",
    "a=a*3\n",
    "print(a,b)"
   ]
  },
  {
   "cell_type": "code",
   "execution_count": 12,
   "id": "477d0d44",
   "metadata": {},
   "outputs": [
    {
     "name": "stdout",
     "output_type": "stream",
     "text": [
      "1 2 3\n"
     ]
    }
   ],
   "source": [
    "a=[1,2,3,4]\n",
    "x=iter(a)\n",
    "print(next(x),next(x),next(x))"
   ]
  },
  {
   "cell_type": "code",
   "execution_count": 13,
   "id": "f40a825e",
   "metadata": {},
   "outputs": [
    {
     "name": "stdout",
     "output_type": "stream",
     "text": [
      "4 3\n"
     ]
    }
   ],
   "source": [
    "a=[1,2,3,4]\n",
    "x=reversed(a)\n",
    "print(next(x),next(x))"
   ]
  },
  {
   "cell_type": "code",
   "execution_count": null,
   "id": "1882d5e8",
   "metadata": {},
   "outputs": [],
   "source": []
  }
 ],
 "metadata": {
  "kernelspec": {
   "display_name": "Python 3 (ipykernel)",
   "language": "python",
   "name": "python3"
  },
  "language_info": {
   "codemirror_mode": {
    "name": "ipython",
    "version": 3
   },
   "file_extension": ".py",
   "mimetype": "text/x-python",
   "name": "python",
   "nbconvert_exporter": "python",
   "pygments_lexer": "ipython3",
   "version": "3.9.13"
  }
 },
 "nbformat": 4,
 "nbformat_minor": 5
}
