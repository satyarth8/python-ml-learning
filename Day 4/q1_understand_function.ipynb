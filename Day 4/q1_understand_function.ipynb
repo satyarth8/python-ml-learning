{
 "cells": [
  {
   "cell_type": "code",
   "execution_count": null,
   "metadata": {},
   "outputs": [],
   "source": [
    "#strip()\n",
    "a=\" satya \"\n",
    "print(a)\n",
    "a= a.strip() # removes the whitespace from sides\n",
    "print(a)"
   ]
  },
  {
   "cell_type": "code",
   "execution_count": null,
   "metadata": {},
   "outputs": [],
   "source": [
    "#upper() , lower()\n",
    "a='a B c D'\n",
    "print(a)\n",
    "print(\"to upper \"+a.upper()) #converts the string to upper case\n",
    "print(\"to lower \"+a.lower()) #converts the string to lower case\n"
   ]
  },
  {
   "cell_type": "code",
   "execution_count": null,
   "metadata": {},
   "outputs": [],
   "source": [
    "#capitalize \n",
    "str=\"SaTYArth\"\n",
    "print(str.capitalize()) # capitalizes first letter"
   ]
  },
  {
   "cell_type": "code",
   "execution_count": null,
   "metadata": {},
   "outputs": [],
   "source": [
    "#replace(old,new)\n",
    "str=\"gekko\"\n",
    "print(str)\n",
    "str=str.replace('g','h') # replace g with h\n",
    "print(str)\n",
    "str=str.replace('k','l')\n",
    "print(str)"
   ]
  },
  {
   "cell_type": "code",
   "execution_count": null,
   "metadata": {},
   "outputs": [],
   "source": [
    "#split- splits the words of string into a list of word\n",
    "str=\" hello my name is satyarth \"\n",
    "print(str.split())"
   ]
  },
  {
   "cell_type": "code",
   "execution_count": null,
   "metadata": {},
   "outputs": [],
   "source": [
    "a=['s','a','t','y','a']\n",
    "# Syntax = the character in between the elements.join(a[start:stop:step])\n",
    "b= \"-\".join(a[::])\n",
    "print(b)"
   ]
  },
  {
   "cell_type": "code",
   "execution_count": null,
   "metadata": {},
   "outputs": [],
   "source": [
    "#find(substring) = return the index of the first occurence of the value given as the substring\n",
    "a=\"satyarth\"\n",
    "print(a.find('a'))"
   ]
  },
  {
   "cell_type": "code",
   "execution_count": null,
   "metadata": {},
   "outputs": [],
   "source": [
    "#Startswith(substring) = returns True or False if the string starts with the substring or not\n",
    "a=\"satyarth\"\n",
    "print(a.startswith(\"satya\"))\n",
    "\n",
    "#endswith(substring) = returns True or False if the string ends with the substring or not\n",
    "a=\"satyarth\"\n",
    "print(a.endswith(\"arth\"))"
   ]
  },
  {
   "cell_type": "code",
   "execution_count": null,
   "metadata": {},
   "outputs": [],
   "source": [
    "#len(string_name)= returns the number of characters in the string\n",
    "a=\"helloworld\"\n",
    "print(len(a))"
   ]
  },
  {
   "cell_type": "code",
   "execution_count": null,
   "metadata": {},
   "outputs": [],
   "source": [
    "#count(substring)= no. of times a substring is present in the string\n",
    "a=\"satyarth\"\n",
    "print(a.count(\"a\"))"
   ]
  }
 ],
 "metadata": {
  "language_info": {
   "name": "python"
  },
  "orig_nbformat": 4
 },
 "nbformat": 4,
 "nbformat_minor": 2
}
